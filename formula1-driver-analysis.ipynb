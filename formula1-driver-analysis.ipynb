{
  "nbformat": 4,
  "nbformat_minor": 0,
  "metadata": {
    "colab": {
      "provenance": []
    },
    "kernelspec": {
      "name": "python3",
      "display_name": "Python 3"
    },
    "language_info": {
      "name": "python"
    }
  },
  "cells": [
    {
      "cell_type": "code",
      "source": [
        "from google.colab import files\n",
        "uploaded= files.upload()  #I upload the csv file that is on my pc\n"
      ],
      "metadata": {
        "id": "Ds93MVVgEGle",
        "colab": {
          "base_uri": "https://localhost:8080/",
          "height": 73
        },
        "outputId": "d380ba26-b0bf-4364-b224-49031e4cab69"
      },
      "execution_count": null,
      "outputs": [
        {
          "output_type": "display_data",
          "data": {
            "text/plain": [
              "<IPython.core.display.HTML object>"
            ],
            "text/html": [
              "\n",
              "     <input type=\"file\" id=\"files-a9d449ee-38b8-422f-9317-c7d70b8da111\" name=\"files[]\" multiple disabled\n",
              "        style=\"border:none\" />\n",
              "     <output id=\"result-a9d449ee-38b8-422f-9317-c7d70b8da111\">\n",
              "      Upload widget is only available when the cell has been executed in the\n",
              "      current browser session. Please rerun this cell to enable.\n",
              "      </output>\n",
              "      <script>// Copyright 2017 Google LLC\n",
              "//\n",
              "// Licensed under the Apache License, Version 2.0 (the \"License\");\n",
              "// you may not use this file except in compliance with the License.\n",
              "// You may obtain a copy of the License at\n",
              "//\n",
              "//      http://www.apache.org/licenses/LICENSE-2.0\n",
              "//\n",
              "// Unless required by applicable law or agreed to in writing, software\n",
              "// distributed under the License is distributed on an \"AS IS\" BASIS,\n",
              "// WITHOUT WARRANTIES OR CONDITIONS OF ANY KIND, either express or implied.\n",
              "// See the License for the specific language governing permissions and\n",
              "// limitations under the License.\n",
              "\n",
              "/**\n",
              " * @fileoverview Helpers for google.colab Python module.\n",
              " */\n",
              "(function(scope) {\n",
              "function span(text, styleAttributes = {}) {\n",
              "  const element = document.createElement('span');\n",
              "  element.textContent = text;\n",
              "  for (const key of Object.keys(styleAttributes)) {\n",
              "    element.style[key] = styleAttributes[key];\n",
              "  }\n",
              "  return element;\n",
              "}\n",
              "\n",
              "// Max number of bytes which will be uploaded at a time.\n",
              "const MAX_PAYLOAD_SIZE = 100 * 1024;\n",
              "\n",
              "function _uploadFiles(inputId, outputId) {\n",
              "  const steps = uploadFilesStep(inputId, outputId);\n",
              "  const outputElement = document.getElementById(outputId);\n",
              "  // Cache steps on the outputElement to make it available for the next call\n",
              "  // to uploadFilesContinue from Python.\n",
              "  outputElement.steps = steps;\n",
              "\n",
              "  return _uploadFilesContinue(outputId);\n",
              "}\n",
              "\n",
              "// This is roughly an async generator (not supported in the browser yet),\n",
              "// where there are multiple asynchronous steps and the Python side is going\n",
              "// to poll for completion of each step.\n",
              "// This uses a Promise to block the python side on completion of each step,\n",
              "// then passes the result of the previous step as the input to the next step.\n",
              "function _uploadFilesContinue(outputId) {\n",
              "  const outputElement = document.getElementById(outputId);\n",
              "  const steps = outputElement.steps;\n",
              "\n",
              "  const next = steps.next(outputElement.lastPromiseValue);\n",
              "  return Promise.resolve(next.value.promise).then((value) => {\n",
              "    // Cache the last promise value to make it available to the next\n",
              "    // step of the generator.\n",
              "    outputElement.lastPromiseValue = value;\n",
              "    return next.value.response;\n",
              "  });\n",
              "}\n",
              "\n",
              "/**\n",
              " * Generator function which is called between each async step of the upload\n",
              " * process.\n",
              " * @param {string} inputId Element ID of the input file picker element.\n",
              " * @param {string} outputId Element ID of the output display.\n",
              " * @return {!Iterable<!Object>} Iterable of next steps.\n",
              " */\n",
              "function* uploadFilesStep(inputId, outputId) {\n",
              "  const inputElement = document.getElementById(inputId);\n",
              "  inputElement.disabled = false;\n",
              "\n",
              "  const outputElement = document.getElementById(outputId);\n",
              "  outputElement.innerHTML = '';\n",
              "\n",
              "  const pickedPromise = new Promise((resolve) => {\n",
              "    inputElement.addEventListener('change', (e) => {\n",
              "      resolve(e.target.files);\n",
              "    });\n",
              "  });\n",
              "\n",
              "  const cancel = document.createElement('button');\n",
              "  inputElement.parentElement.appendChild(cancel);\n",
              "  cancel.textContent = 'Cancel upload';\n",
              "  const cancelPromise = new Promise((resolve) => {\n",
              "    cancel.onclick = () => {\n",
              "      resolve(null);\n",
              "    };\n",
              "  });\n",
              "\n",
              "  // Wait for the user to pick the files.\n",
              "  const files = yield {\n",
              "    promise: Promise.race([pickedPromise, cancelPromise]),\n",
              "    response: {\n",
              "      action: 'starting',\n",
              "    }\n",
              "  };\n",
              "\n",
              "  cancel.remove();\n",
              "\n",
              "  // Disable the input element since further picks are not allowed.\n",
              "  inputElement.disabled = true;\n",
              "\n",
              "  if (!files) {\n",
              "    return {\n",
              "      response: {\n",
              "        action: 'complete',\n",
              "      }\n",
              "    };\n",
              "  }\n",
              "\n",
              "  for (const file of files) {\n",
              "    const li = document.createElement('li');\n",
              "    li.append(span(file.name, {fontWeight: 'bold'}));\n",
              "    li.append(span(\n",
              "        `(${file.type || 'n/a'}) - ${file.size} bytes, ` +\n",
              "        `last modified: ${\n",
              "            file.lastModifiedDate ? file.lastModifiedDate.toLocaleDateString() :\n",
              "                                    'n/a'} - `));\n",
              "    const percent = span('0% done');\n",
              "    li.appendChild(percent);\n",
              "\n",
              "    outputElement.appendChild(li);\n",
              "\n",
              "    const fileDataPromise = new Promise((resolve) => {\n",
              "      const reader = new FileReader();\n",
              "      reader.onload = (e) => {\n",
              "        resolve(e.target.result);\n",
              "      };\n",
              "      reader.readAsArrayBuffer(file);\n",
              "    });\n",
              "    // Wait for the data to be ready.\n",
              "    let fileData = yield {\n",
              "      promise: fileDataPromise,\n",
              "      response: {\n",
              "        action: 'continue',\n",
              "      }\n",
              "    };\n",
              "\n",
              "    // Use a chunked sending to avoid message size limits. See b/62115660.\n",
              "    let position = 0;\n",
              "    do {\n",
              "      const length = Math.min(fileData.byteLength - position, MAX_PAYLOAD_SIZE);\n",
              "      const chunk = new Uint8Array(fileData, position, length);\n",
              "      position += length;\n",
              "\n",
              "      const base64 = btoa(String.fromCharCode.apply(null, chunk));\n",
              "      yield {\n",
              "        response: {\n",
              "          action: 'append',\n",
              "          file: file.name,\n",
              "          data: base64,\n",
              "        },\n",
              "      };\n",
              "\n",
              "      let percentDone = fileData.byteLength === 0 ?\n",
              "          100 :\n",
              "          Math.round((position / fileData.byteLength) * 100);\n",
              "      percent.textContent = `${percentDone}% done`;\n",
              "\n",
              "    } while (position < fileData.byteLength);\n",
              "  }\n",
              "\n",
              "  // All done.\n",
              "  yield {\n",
              "    response: {\n",
              "      action: 'complete',\n",
              "    }\n",
              "  };\n",
              "}\n",
              "\n",
              "scope.google = scope.google || {};\n",
              "scope.google.colab = scope.google.colab || {};\n",
              "scope.google.colab._files = {\n",
              "  _uploadFiles,\n",
              "  _uploadFilesContinue,\n",
              "};\n",
              "})(self);\n",
              "</script> "
            ]
          },
          "metadata": {}
        },
        {
          "output_type": "stream",
          "name": "stdout",
          "text": [
            "Saving formula1_data.csv to formula1_data.csv\n"
          ]
        }
      ]
    },
    {
      "cell_type": "code",
      "source": [
        "import pandas as pd\n",
        "file_formula1= pd.read_csv(\"formula1_data.csv\")\n",
        "print(file_formula1.head())  #I visualize the first few lines to take a look"
      ],
      "metadata": {
        "colab": {
          "base_uri": "https://localhost:8080/"
        },
        "id": "LFkIR4SMvP1N",
        "outputId": "cbf172ba-170c-476d-c627-4eb2c5348ae4"
      },
      "execution_count": null,
      "outputs": [
        {
          "output_type": "stream",
          "name": "stdout",
          "text": [
            "      Driver     Team       Race    Country  Position\n",
            "0   Hamilton  McLaren  Melbourne  Australia         1\n",
            "1      Massa  Ferrari  Melbourne  Australia         0\n",
            "2  Raikkonen  Ferrari  Melbourne  Australia         8\n",
            "3     Kubica      BMW  Melbourne  Australia         0\n",
            "4     Alonso  Renault  Melbourne  Australia         4\n"
          ]
        }
      ]
    },
    {
      "cell_type": "code",
      "source": [
        "# Dictionary that maps positions to scores\n",
        "points_mapping = {\n",
        "    1: 10,\n",
        "    2: 8,\n",
        "    3: 6,\n",
        "    4: 5,\n",
        "    5: 4,\n",
        "    6: 3,\n",
        "    7: 2,\n",
        "    8: 1\n",
        "}\n",
        "\n",
        "def score(position):\n",
        "    return points_mapping.get(position, 0)  # Returns 0 if the position is not in the dictionary\n"
      ],
      "metadata": {
        "id": "wq9Gi9x8wJbP"
      },
      "execution_count": null,
      "outputs": []
    },
    {
      "cell_type": "code",
      "source": [
        "# Function to observe individual pilot performance\n",
        "def pilot_performance(driver):\n",
        "    pilot = file_formula1[file_formula1['Driver'] == driver]  # Filter data by pilot\n",
        "\n",
        "    # If the pilot doesn't exist\n",
        "    if pilot.empty:\n",
        "        print(f\"The pilot {driver} was not found in the file.\")\n",
        "        return None\n",
        "\n",
        "    total_score = 0\n",
        "    victories = 0\n",
        "    podiums = 0\n",
        "\n",
        "\n",
        "    for i, row in pilot.iterrows():\n",
        "        position = row[\"Position\"]\n",
        "        scores = score(position)  # Calculating points based on location\n",
        "        total_score += scores     # Adding to the total\n",
        "\n",
        "        if position == 1:\n",
        "            victories += 1\n",
        "        if position <= 3 and position > 0:\n",
        "            podiums += 1\n",
        "\n",
        "    return {\n",
        "        \"Total score\": total_score,\n",
        "        \"Victories\": victories,\n",
        "        \"Podiums\": podiums\n",
        "    }\n",
        "\n",
        "\n",
        "pilot_name = input(\"Enter pilot's name: \")\n",
        "result=pilot_performance(pilot_name)\n",
        "if result:\n",
        "   print(f\"The performance of {pilot_name} is: Total score {result['Total score']}, Victories {result['Victories']}, Podiums {result['Podiums']}\")\n"
      ],
      "metadata": {
        "colab": {
          "base_uri": "https://localhost:8080/"
        },
        "id": "BrMrRfHO2YTm",
        "outputId": "01766a5f-68a7-4848-a600-4e8407b3bc40"
      },
      "execution_count": null,
      "outputs": [
        {
          "output_type": "stream",
          "name": "stdout",
          "text": [
            "Enter pilot's name: Hamilton\n",
            "The performance of Hamilton is: Total score 98, Victories 5, Podiums 10\n"
          ]
        }
      ]
    },
    {
      "cell_type": "code",
      "source": [
        "def final_ranking():\n",
        "    # Function for creating final ranking\n",
        "    pilots_scores = {}\n",
        "\n",
        "\n",
        "    for pilot in file_formula1['Driver'].unique():\n",
        "\n",
        "        pilot_data = file_formula1[file_formula1['Driver'] == pilot]\n",
        "\n",
        "        # Calculating the total score for each pilot\n",
        "        total_score = 0\n",
        "        for i, row in pilot_data.iterrows():\n",
        "            position = row[\"Position\"]\n",
        "            total_score += score(position)  # I use the score function\n",
        "\n",
        "        pilots_scores[pilot] = total_score\n",
        "\n",
        "    # I sort the pilots by total score (highest to lowest)\n",
        "    ranking = dict(sorted(pilots_scores.items(), key=lambda item: item[1], reverse=True))\n",
        "\n",
        "    # I write the ranking to a text file\n",
        "    with open('Drivers_Standings_2008.txt', 'w') as file:\n",
        "        file.write(\"Drivers Standings 2008 Formula 1\\n\")\n",
        "        for pilot, total in ranking.items():\n",
        "            file.write(f\"{pilot}: {total}\\n\")\n",
        "\n",
        "    return ranking\n",
        "\n",
        "# I call the function and print the final ranking\n",
        "pilot_ranking = final_ranking()\n",
        "print(\"Drivers Standings 2008 Formula 1\")\n",
        "for pilot, total in pilot_ranking.items():\n",
        "    print(f\"{pilot}: {total}\")\n",
        "\n"
      ],
      "metadata": {
        "colab": {
          "base_uri": "https://localhost:8080/"
        },
        "id": "wN6-gwzW9OkU",
        "outputId": "d242e4a5-7de6-4e8e-b38d-62813688e49f"
      },
      "execution_count": null,
      "outputs": [
        {
          "output_type": "stream",
          "name": "stdout",
          "text": [
            "Drivers Standings 2008 Formula 1\n",
            "Hamilton: 98\n",
            "Massa: 97\n",
            "Raikkonen: 75\n",
            "Kubica: 75\n",
            "Alonso: 61\n",
            "Heidfeld: 60\n",
            "Kovalainen: 53\n",
            "Vettel: 35\n",
            "Trulli: 31\n",
            "Glock: 25\n"
          ]
        }
      ]
    },
    {
      "cell_type": "code",
      "source": [
        "def constructor_ranking():\n",
        "    # Dictionary for constructor scores\n",
        "    constructors_scores = {}\n",
        "\n",
        "    # Open the text file generated earlier\n",
        "    with open('Drivers_Standings_2008.txt', 'r') as file:\n",
        "        # Skip the first line (the title)\n",
        "        lines = file.readlines()[1:]\n",
        "\n",
        "        for line in lines:\n",
        "            # Extract pilot name and points\n",
        "            pilot_info = line.strip().split(': ')\n",
        "            pilot_name = pilot_info[0].strip()\n",
        "            pilot_points = int(pilot_info[1])\n",
        "\n",
        "            # Get the pilot's team from the original dataframe\n",
        "            # Using .strip().lower() to normalize and avoid case/spaces mismatch\n",
        "            matching_teams = file_formula1[file_formula1['Driver'].str.strip().str.lower() == pilot_name.lower()]['Team'].values\n",
        "\n",
        "            if len(matching_teams) > 0:\n",
        "                pilot_team = matching_teams[0]\n",
        "            else:\n",
        "                continue  # If no match is found, skip to the next pilot\n",
        "\n",
        "            # Add the points to the team in the dictionary\n",
        "            if pilot_team in constructors_scores:\n",
        "                constructors_scores[pilot_team] += pilot_points\n",
        "            else:\n",
        "                constructors_scores[pilot_team] = pilot_points\n",
        "\n",
        "    # Sort constructors by total score (highest to lowest)\n",
        "    ranking = dict(sorted(constructors_scores.items(), key=lambda item: item[1], reverse=True))\n",
        "\n",
        "    # Print the constructors' standings\n",
        "    print(\"Constructors Standings 2008 Formula 1\")\n",
        "    for constructor, total in ranking.items():\n",
        "        print(f\"{constructor}: {total}\")\n",
        "\n",
        "    return ranking\n",
        "\n",
        "# Call the function to calculate constructor standings\n",
        "constructor_ranking_data = constructor_ranking()\n"
      ],
      "metadata": {
        "colab": {
          "base_uri": "https://localhost:8080/"
        },
        "id": "zGCFraQ4Q2AI",
        "outputId": "75d1e6b6-03e4-4bc4-b1b6-83c900298fbb"
      },
      "execution_count": null,
      "outputs": [
        {
          "output_type": "stream",
          "name": "stdout",
          "text": [
            "Constructors Standings 2008 Formula 1\n",
            "Ferrari: 172\n",
            "McLaren: 151\n",
            "BMW: 135\n",
            "Renault: 61\n",
            "Toyota: 56\n",
            "Toro Rosso: 35\n"
          ]
        }
      ]
    },
    {
      "cell_type": "code",
      "source": [],
      "metadata": {
        "id": "o3L-SOP5VRoU"
      },
      "execution_count": null,
      "outputs": []
    }
  ]
}